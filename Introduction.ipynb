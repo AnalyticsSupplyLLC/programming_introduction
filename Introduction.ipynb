{
 "cells": [
  {
   "cell_type": "markdown",
   "metadata": {},
   "source": [
    "#  Background\n",
    "\n",
    "I've been writing code for over 19 years!\n",
    "\n",
    "I love to write code!!"
   ]
  },
  {
   "cell_type": "markdown",
   "metadata": {},
   "source": [
    "## Programming Languages I Know\n",
    "\n",
    "1. C\n",
    "2. COBOL\n",
    "3. Java\n",
    "4. JavaScript\n",
    "5. Visual Basic\n",
    "6. Scratch\n",
    "7. Scala\n",
    "8. R\n",
    "9. Python\n",
    "\n",
    "Right now my favorite programming language is **PYTHON**"
   ]
  },
  {
   "cell_type": "markdown",
   "metadata": {},
   "source": [
    "## I have taught students programming\n",
    "\n",
    "I have taught homeschoolers how to code in Python and Scratch.\n",
    "\n",
    "### Best Advice for Writing code!\n",
    "\n",
    "Learn to type!"
   ]
  },
  {
   "cell_type": "markdown",
   "metadata": {},
   "source": [
    "## Example Projects that I have Done\n",
    "\n",
    "### Point of Order System (restaurant kiosk)\n",
    "\n",
    "A system to take food orders on touchscreen computer and then print the ticket in the kitchen\n",
    "\n",
    "### Commercial System Balancing\n",
    "\n",
    "A program to make sure the print, output matched the system of record\n",
    "\n",
    "### Scoring Engine\n",
    "\n",
    "A system to score auto policies for high risk\n",
    "\n",
    "### Web Applications to Process Business\n",
    "\n",
    "1. Trucking Deliveries  [App](https://sales-inv-corchids.appspot.com/sales_inventory)\n",
    "2. Sales Reservations  [App](https://logistics-inv-corchids.appspot.com/routes)\n",
    "3. Order Submissions  [App](https://customer-tracking-188018.appspot.com/home)\n",
    "4. Cell Phone Tower Tracking [App](https://tower-tracking.appspot.com/home)\n",
    "5. Life Insurance Calculator [App](http://life-insurance-calculator.appspot.com/viz)"
   ]
  },
  {
   "cell_type": "markdown",
   "metadata": {},
   "source": [
    "# Projects that you can do at Home!!\n",
    "\n",
    "## 1.  Write code to search for all pictures and move them to one directory\n",
    "\n",
    "## 2.  Help manage a fantasy football/baseball team\n",
    "\n",
    "## 3.  Check if a toy has gone on sale\n",
    "\n",
    "## 4.  Clean your email inbox\n",
    "\n",
    "## 5.  Create an App to help you study\n"
   ]
  },
  {
   "cell_type": "markdown",
   "metadata": {},
   "source": [
    "## My Scratch Baseball Game\n",
    "\n",
    "#### Baseball Game (Home run Derby)\n",
    "\n",
    "Object:  2 players play against each other; 1 player pitches the ball and the other player tried to hit the ball.  The player that hits the most home runs wins the game.\n",
    "\n",
    "Capabilities Needed:\n",
    "* [ ] pitch the ball from a mound until it goes past the batter\n",
    "* [ ] Have a bat that when the bottom arrow key is pressed will swing the bat\n",
    "* [ ] Once the bat hits the ball, the ball will be “hit” and travel towards the edge of the screen\n",
    "* [ ] In order to make it more difficult the ball will travel at random speeds and be thrown at a random time\n",
    "* [ ] The ball should travel in the direction according to the angle of the bat so that a foul ball can be hit\n",
    "* [ ] The ball should travel a distance based on how hard that bat is swung\n",
    "* [ ] The ball should also travel a distance based on how hard the ball is thrown\n",
    "* [ ] An outfield fence should be created to indicate the goal of the homerun\n",
    "* [ ] If the ball touches the fence, it is counted as a homerun, which is tracked\n",
    "* [ ] Any ball that is hit and does not become a homerun, is counted as an out\n",
    "* [ ] After 3 outs the player’s round is over"
   ]
  },
  {
   "cell_type": "markdown",
   "metadata": {},
   "source": [
    "### Development Steps\n",
    "\n",
    "- [Step 1](https://scratch.mit.edu/projects/268749243/)\n",
    "- [Step 2](https://scratch.mit.edu/projects/268748610/)\n",
    "- [Step 3](https://scratch.mit.edu/projects/268748463/)\n",
    "- [Step 4](https://scratch.mit.edu/projects/268747878/)\n",
    "\n",
    "- [FINAL](https://scratch.mit.edu/projects/268661985/)"
   ]
  },
  {
   "cell_type": "code",
   "execution_count": 1,
   "metadata": {},
   "outputs": [
    {
     "name": "stdout",
     "output_type": "stream",
     "text": [
      "hello world\n"
     ]
    }
   ],
   "source": [
    "print('hello world')"
   ]
  },
  {
   "cell_type": "code",
   "execution_count": null,
   "metadata": {},
   "outputs": [],
   "source": []
  }
 ],
 "metadata": {
  "kernelspec": {
   "display_name": "Python 3",
   "language": "python",
   "name": "python3"
  },
  "language_info": {
   "codemirror_mode": {
    "name": "ipython",
    "version": 3
   },
   "file_extension": ".py",
   "mimetype": "text/x-python",
   "name": "python",
   "nbconvert_exporter": "python",
   "pygments_lexer": "ipython3",
   "version": "3.6.6"
  }
 },
 "nbformat": 4,
 "nbformat_minor": 2
}
