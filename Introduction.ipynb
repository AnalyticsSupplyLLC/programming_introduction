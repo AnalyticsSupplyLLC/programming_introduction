{
 "cells": [
  {
   "cell_type": "markdown",
   "metadata": {},
   "source": [
    "#  Background\n",
    "\n",
    "I've been writing code for over 19 years!\n",
    "\n",
    "I love to write code!!"
   ]
  },
  {
   "cell_type": "markdown",
   "metadata": {},
   "source": [
    "## Programming Languages I Know\n",
    "\n",
    "1. C\n",
    "2. COBOL\n",
    "3. Java\n",
    "4. JavaScript\n",
    "5. Visual Basic\n",
    "6. Scratch\n",
    "7. Scala\n",
    "8. R\n",
    "9. Python\n",
    "\n",
    "Right now my favorite programming language is **PYTHON**"
   ]
  },
  {
   "cell_type": "markdown",
   "metadata": {},
   "source": [
    "## I have taught students programming\n",
    "\n",
    "I have taught homeschoolers how to code in Python and Scratch.\n",
    "\n",
    "### Best Advice for Writing code!\n",
    "\n",
    "Learn to type!"
   ]
  },
  {
   "cell_type": "markdown",
   "metadata": {},
   "source": [
    "## Example Projects that I have Done\n",
    "\n",
    "### Point of Order System (restaurant kiosk)\n",
    "\n",
    "A system to take food orders on touchscreen computer and then print the ticket in the kitchen\n",
    "\n",
    "### Commercial System Balancing\n",
    "\n",
    "A program to make sure the print, output matched the system of record\n",
    "\n",
    "### Scoring Engine\n",
    "\n",
    "A system to score auto policies for high risk\n",
    "\n",
    "### Web Applications to Process Business\n",
    "\n",
    "1. Trucking Deliveries  [App](https://sales-inv-corchids.appspot.com/sales_inventory)\n",
    "2. Sales Reservations  [App](https://logistics-inv-corchids.appspot.com/routes)\n",
    "3. Order Submissions  [App](https://customer-tracking-188018.appspot.com/home)\n",
    "4. Cell Phone Tower Tracking [App](https://tower-tracking.appspot.com/home)\n",
    "5. Life Insurance Calculator [App](http://life-insurance-calculator.appspot.com/viz)"
   ]
  },
  {
   "cell_type": "markdown",
   "metadata": {},
   "source": [
    "# Projects that you can do at Home!!\n",
    "\n",
    "## 1.  Write code to search for all pictures and move them to one directory\n",
    "\n",
    "## 2.  Help manage a fantasy football/baseball team\n",
    "\n",
    "## 3.  Check if a toy has gone on sale\n",
    "\n",
    "## 4.  Clean your email inbox\n",
    "\n",
    "## 5.  Create an App to help you study\n"
   ]
  },
  {
   "cell_type": "code",
   "execution_count": null,
   "metadata": {},
   "outputs": [],
   "source": []
  }
 ],
 "metadata": {
  "kernelspec": {
   "display_name": "Python 3",
   "language": "python",
   "name": "python3"
  },
  "language_info": {
   "codemirror_mode": {
    "name": "ipython",
    "version": 3
   },
   "file_extension": ".py",
   "mimetype": "text/x-python",
   "name": "python",
   "nbconvert_exporter": "python",
   "pygments_lexer": "ipython3",
   "version": "3.6.4"
  }
 },
 "nbformat": 4,
 "nbformat_minor": 2
}
